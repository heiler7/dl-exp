{
 "cells": [
  {
   "cell_type": "code",
   "execution_count": 2,
   "metadata": {},
   "outputs": [
    {
     "name": "stdout",
     "output_type": "stream",
     "text": [
      "Looking in indexes: https://pypi.tuna.tsinghua.edu.cn/simple, https://pypi.ngc.nvidia.com\n",
      "Collecting xgboost\n",
      "  Downloading https://pypi.tuna.tsinghua.edu.cn/packages/95/a4/16490d38b4854a1ce4995f4088bcb701b5057f711e34c95cd6e29792cdde/xgboost-2.1.2-py3-none-manylinux_2_28_x86_64.whl (153.9 MB)\n",
      "\u001b[2K     \u001b[90m━━━━━━━━━━━━━━━━━━━━━━━━━━━━━━━━━━━━━━━\u001b[0m \u001b[32m153.9/153.9 MB\u001b[0m \u001b[31m7.2 MB/s\u001b[0m eta \u001b[36m0:00:00\u001b[0m00:01\u001b[0m00:01\u001b[0m\n",
      "\u001b[?25hCollecting numpy (from xgboost)\n",
      "  Downloading https://pypi.tuna.tsinghua.edu.cn/packages/fb/25/ba023652a39a2c127200e85aed975fc6119b421e2c348e5d0171e2046edb/numpy-2.1.2-cp310-cp310-manylinux_2_17_x86_64.manylinux2014_x86_64.whl (16.3 MB)\n",
      "\u001b[2K     \u001b[90m━━━━━━━━━━━━━━━━━━━━━━━━━━━━━━━━━━━━━━━━\u001b[0m \u001b[32m16.3/16.3 MB\u001b[0m \u001b[31m7.3 MB/s\u001b[0m eta \u001b[36m0:00:00\u001b[0ma \u001b[36m0:00:01\u001b[0m\n",
      "\u001b[?25hCollecting nvidia-nccl-cu12 (from xgboost)\n",
      "  Downloading https://pypi.tuna.tsinghua.edu.cn/packages/ed/1f/6482380ec8dcec4894e7503490fc536d846b0d59694acad9cf99f27d0e7d/nvidia_nccl_cu12-2.23.4-py3-none-manylinux2014_x86_64.whl (199.0 MB)\n",
      "\u001b[2K     \u001b[90m━━━━━━━━━━━━━━━━━━━━━━━━━━━━━━━━━━━━━━━\u001b[0m \u001b[32m199.0/199.0 MB\u001b[0m \u001b[31m7.0 MB/s\u001b[0m eta \u001b[36m0:00:00\u001b[0m00:01\u001b[0m00:01\u001b[0m\n",
      "\u001b[?25hCollecting scipy (from xgboost)\n",
      "  Downloading https://pypi.tuna.tsinghua.edu.cn/packages/47/78/b0c2c23880dd1e99e938ad49ccfb011ae353758a2dc5ed7ee59baff684c3/scipy-1.14.1-cp310-cp310-manylinux_2_17_x86_64.manylinux2014_x86_64.whl (41.2 MB)\n",
      "\u001b[2K     \u001b[90m━━━━━━━━━━━━━━━━━━━━━━━━━━━━━━━━━━━━━━━━\u001b[0m \u001b[32m41.2/41.2 MB\u001b[0m \u001b[31m6.1 MB/s\u001b[0m eta \u001b[36m0:00:00\u001b[0ma \u001b[36m0:00:01\u001b[0m\n",
      "\u001b[?25hInstalling collected packages: nvidia-nccl-cu12, numpy, scipy, xgboost\n",
      "Successfully installed numpy-2.1.2 nvidia-nccl-cu12-2.23.4 scipy-1.14.1 xgboost-2.1.2\n",
      "\u001b[33mWARNING: Running pip as the 'root' user can result in broken permissions and conflicting behaviour with the system package manager, possibly rendering your system unusable.It is recommended to use a virtual environment instead: https://pip.pypa.io/warnings/venv. Use the --root-user-action option if you know what you are doing and want to suppress this warning.\u001b[0m\u001b[33m\n",
      "\u001b[0m"
     ]
    }
   ],
   "source": [
    "!pip install xgboost -i https://pypi.tuna.tsinghua.edu.cn/simple\n",
    "!pip install scikit-learn -i https://pypi.tuna.tsinghua.edu.cn/simple"
   ]
  },
  {
   "cell_type": "code",
   "execution_count": 3,
   "metadata": {},
   "outputs": [
    {
     "name": "stdout",
     "output_type": "stream",
     "text": [
      "Looking in indexes: https://pypi.tuna.tsinghua.edu.cn/simple, https://pypi.ngc.nvidia.com\n",
      "Collecting pandas\n",
      "  Downloading https://pypi.tuna.tsinghua.edu.cn/packages/44/50/7db2cd5e6373ae796f0ddad3675268c8d59fb6076e66f0c339d61cea886b/pandas-2.2.3-cp310-cp310-manylinux_2_17_x86_64.manylinux2014_x86_64.whl (13.1 MB)\n",
      "\u001b[2K     \u001b[90m━━━━━━━━━━━━━━━━━━━━━━━━━━━━━━━━━━━━━━━━\u001b[0m \u001b[32m13.1/13.1 MB\u001b[0m \u001b[31m3.5 MB/s\u001b[0m eta \u001b[36m0:00:00\u001b[0ma \u001b[36m0:00:01\u001b[0m\n",
      "\u001b[?25hRequirement already satisfied: numpy in /workspace/anaconda3/envs/sdpltest/lib/python3.10/site-packages (2.1.2)\n",
      "Requirement already satisfied: python-dateutil>=2.8.2 in /workspace/anaconda3/envs/sdpltest/lib/python3.10/site-packages (from pandas) (2.9.0)\n",
      "Collecting pytz>=2020.1 (from pandas)\n",
      "  Downloading https://pypi.tuna.tsinghua.edu.cn/packages/11/c3/005fcca25ce078d2cc29fd559379817424e94885510568bc1bc53d7d5846/pytz-2024.2-py2.py3-none-any.whl (508 kB)\n",
      "Collecting tzdata>=2022.7 (from pandas)\n",
      "  Downloading https://pypi.tuna.tsinghua.edu.cn/packages/a6/ab/7e5f53c3b9d14972843a647d8d7a853969a58aecc7559cb3267302c94774/tzdata-2024.2-py2.py3-none-any.whl (346 kB)\n",
      "Requirement already satisfied: six>=1.5 in /workspace/anaconda3/envs/sdpltest/lib/python3.10/site-packages (from python-dateutil>=2.8.2->pandas) (1.16.0)\n",
      "Installing collected packages: pytz, tzdata, pandas\n",
      "Successfully installed pandas-2.2.3 pytz-2024.2 tzdata-2024.2\n",
      "\u001b[33mWARNING: Running pip as the 'root' user can result in broken permissions and conflicting behaviour with the system package manager, possibly rendering your system unusable.It is recommended to use a virtual environment instead: https://pip.pypa.io/warnings/venv. Use the --root-user-action option if you know what you are doing and want to suppress this warning.\u001b[0m\u001b[33m\n",
      "\u001b[0m"
     ]
    }
   ],
   "source": [
    "!pip install pandas numpy -i https://pypi.tuna.tsinghua.edu.cn/simple"
   ]
  },
  {
   "cell_type": "code",
   "execution_count": 1,
   "metadata": {},
   "outputs": [],
   "source": [
    "import pandas as pd\n",
    "import numpy as np\n",
    "import warnings\n",
    "warnings.filterwarnings(\"ignore\")"
   ]
  },
  {
   "cell_type": "code",
   "execution_count": 2,
   "metadata": {},
   "outputs": [],
   "source": [
    "data = pd.read_csv(\"./data/predict_table.csv\") \n",
    "data2 = pd.read_csv(\"./data/product_info_simple_final_train.csv\") "
   ]
  },
  {
   "cell_type": "code",
   "execution_count": 3,
   "metadata": {},
   "outputs": [],
   "source": [
    "from datetime import datetime\n",
    "base = int(datetime.strptime(str(20210104), \"%Y%m%d\").timestamp())+58320000\n",
    "change = lambda x:(int(datetime.strptime(str(x), \"%Y%m%d\").timestamp())-base)/86400"
   ]
  },
  {
   "cell_type": "code",
   "execution_count": 6,
   "metadata": {},
   "outputs": [],
   "source": [
    "models = {}\n",
    "models2 = {}\n",
    "models3 = {}\n",
    "\n",
    "import xgboost\n",
    "for i in data['product_pid'].unique():\n",
    "    X=data2[data2['product_pid']==i][\"transaction_date\"].apply(lambda x:change(x)).values.reshape(-1,1)\n",
    "    y=data2[data2['product_pid']==i][\"apply_amt\"]\n",
    "    y2=data2[data2['product_pid']==i][\"redeem_amt\"]\n",
    "    y3=data2[data2['product_pid']==i][\"net_in_amt\"]\n",
    "    models[i]=xgboost.XGBRegressor(tree_method='gpu_hist', gpu_id=1)\n",
    "    models[i].fit(X,y)\n",
    "    models2[i]=xgboost.XGBRegressor(tree_method='gpu_hist', gpu_id=2)\n",
    "    models2[i].fit(X,y2)\n",
    "    models3[i]=xgboost.XGBRegressor(tree_method='gpu_hist', gpu_id=3)\n",
    "    models3[i].fit(X,y3)"
   ]
  },
  {
   "cell_type": "code",
   "execution_count": 9,
   "metadata": {},
   "outputs": [],
   "source": [
    "for i in data[\"product_pid\"].unique():\n",
    "    X=data[data['product_pid']==i][\"transaction_date\"].apply(lambda x:change(x)).values.reshape(-1,1)\n",
    "    pre = models[i].predict(X)\n",
    "    pre2 = models2[i].predict(X)\n",
    "    pre3 = models3[i].predict(X)\n",
    "    data.loc[data['product_pid']==i,\"apply_amt_pred\"] = pre\n",
    "    data.loc[data['product_pid']==i,\"redeem_amt_pred\"] = pre2\n",
    "    data.loc[data['product_pid']==i,\"net_in_amt_pred\"] = pre3"
   ]
  },
  {
   "cell_type": "code",
   "execution_count": 10,
   "metadata": {},
   "outputs": [
    {
     "data": {
      "text/html": [
       "<div>\n",
       "<style scoped>\n",
       "    .dataframe tbody tr th:only-of-type {\n",
       "        vertical-align: middle;\n",
       "    }\n",
       "\n",
       "    .dataframe tbody tr th {\n",
       "        vertical-align: top;\n",
       "    }\n",
       "\n",
       "    .dataframe thead th {\n",
       "        text-align: right;\n",
       "    }\n",
       "</style>\n",
       "<table border=\"1\" class=\"dataframe\">\n",
       "  <thead>\n",
       "    <tr style=\"text-align: right;\">\n",
       "      <th></th>\n",
       "      <th>product_pid</th>\n",
       "      <th>transaction_date</th>\n",
       "      <th>apply_amt_pred</th>\n",
       "      <th>redeem_amt_pred</th>\n",
       "      <th>net_in_amt_pred</th>\n",
       "    </tr>\n",
       "  </thead>\n",
       "  <tbody>\n",
       "    <tr>\n",
       "      <th>0</th>\n",
       "      <td>product1</td>\n",
       "      <td>20221110</td>\n",
       "      <td>3.360803</td>\n",
       "      <td>0.050494</td>\n",
       "      <td>3.310022</td>\n",
       "    </tr>\n",
       "    <tr>\n",
       "      <th>1</th>\n",
       "      <td>product1</td>\n",
       "      <td>20221111</td>\n",
       "      <td>3.360803</td>\n",
       "      <td>0.050494</td>\n",
       "      <td>3.310022</td>\n",
       "    </tr>\n",
       "    <tr>\n",
       "      <th>2</th>\n",
       "      <td>product1</td>\n",
       "      <td>20221114</td>\n",
       "      <td>3.360803</td>\n",
       "      <td>0.050494</td>\n",
       "      <td>3.310022</td>\n",
       "    </tr>\n",
       "    <tr>\n",
       "      <th>3</th>\n",
       "      <td>product1</td>\n",
       "      <td>20221115</td>\n",
       "      <td>3.360803</td>\n",
       "      <td>0.050494</td>\n",
       "      <td>3.310022</td>\n",
       "    </tr>\n",
       "    <tr>\n",
       "      <th>4</th>\n",
       "      <td>product1</td>\n",
       "      <td>20221116</td>\n",
       "      <td>3.360803</td>\n",
       "      <td>0.050494</td>\n",
       "      <td>3.310022</td>\n",
       "    </tr>\n",
       "    <tr>\n",
       "      <th>...</th>\n",
       "      <td>...</td>\n",
       "      <td>...</td>\n",
       "      <td>...</td>\n",
       "      <td>...</td>\n",
       "      <td>...</td>\n",
       "    </tr>\n",
       "    <tr>\n",
       "      <th>1385</th>\n",
       "      <td>product99</td>\n",
       "      <td>20221117</td>\n",
       "      <td>1.047541</td>\n",
       "      <td>9.708147</td>\n",
       "      <td>-8.663309</td>\n",
       "    </tr>\n",
       "    <tr>\n",
       "      <th>1386</th>\n",
       "      <td>product99</td>\n",
       "      <td>20221118</td>\n",
       "      <td>1.047541</td>\n",
       "      <td>9.708147</td>\n",
       "      <td>-8.663309</td>\n",
       "    </tr>\n",
       "    <tr>\n",
       "      <th>1387</th>\n",
       "      <td>product99</td>\n",
       "      <td>20221121</td>\n",
       "      <td>1.047541</td>\n",
       "      <td>9.708147</td>\n",
       "      <td>-8.663309</td>\n",
       "    </tr>\n",
       "    <tr>\n",
       "      <th>1388</th>\n",
       "      <td>product99</td>\n",
       "      <td>20221122</td>\n",
       "      <td>1.047541</td>\n",
       "      <td>9.708147</td>\n",
       "      <td>-8.663309</td>\n",
       "    </tr>\n",
       "    <tr>\n",
       "      <th>1389</th>\n",
       "      <td>product99</td>\n",
       "      <td>20221123</td>\n",
       "      <td>1.047541</td>\n",
       "      <td>9.708147</td>\n",
       "      <td>-8.663309</td>\n",
       "    </tr>\n",
       "  </tbody>\n",
       "</table>\n",
       "<p>1390 rows × 5 columns</p>\n",
       "</div>"
      ],
      "text/plain": [
       "     product_pid  transaction_date  apply_amt_pred  redeem_amt_pred  \\\n",
       "0       product1          20221110        3.360803         0.050494   \n",
       "1       product1          20221111        3.360803         0.050494   \n",
       "2       product1          20221114        3.360803         0.050494   \n",
       "3       product1          20221115        3.360803         0.050494   \n",
       "4       product1          20221116        3.360803         0.050494   \n",
       "...          ...               ...             ...              ...   \n",
       "1385   product99          20221117        1.047541         9.708147   \n",
       "1386   product99          20221118        1.047541         9.708147   \n",
       "1387   product99          20221121        1.047541         9.708147   \n",
       "1388   product99          20221122        1.047541         9.708147   \n",
       "1389   product99          20221123        1.047541         9.708147   \n",
       "\n",
       "      net_in_amt_pred  \n",
       "0            3.310022  \n",
       "1            3.310022  \n",
       "2            3.310022  \n",
       "3            3.310022  \n",
       "4            3.310022  \n",
       "...               ...  \n",
       "1385        -8.663309  \n",
       "1386        -8.663309  \n",
       "1387        -8.663309  \n",
       "1388        -8.663309  \n",
       "1389        -8.663309  \n",
       "\n",
       "[1390 rows x 5 columns]"
      ]
     },
     "execution_count": 10,
     "metadata": {},
     "output_type": "execute_result"
    }
   ],
   "source": [
    "\n",
    "data[\"net_in_amt_pred\"] = (data[\"apply_amt_pred\"]-data[\"redeem_amt_pred\"])*0.5+data[\"net_in_amt_pred\"]*0.5\n",
    "data.to_csv(\"predict_table.csv\",index=False)\n",
    "data"
   ]
  }
 ],
 "metadata": {
  "kernelspec": {
   "display_name": "sdpltest",
   "language": "python",
   "name": "python3"
  },
  "language_info": {
   "codemirror_mode": {
    "name": "ipython",
    "version": 3
   },
   "file_extension": ".py",
   "mimetype": "text/x-python",
   "name": "python",
   "nbconvert_exporter": "python",
   "pygments_lexer": "ipython3",
   "version": "3.10.15"
  }
 },
 "nbformat": 4,
 "nbformat_minor": 2
}
